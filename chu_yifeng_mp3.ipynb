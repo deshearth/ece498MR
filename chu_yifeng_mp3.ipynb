{
 "cells": [
  {
   "cell_type": "markdown",
   "metadata": {},
   "source": [
    "# Programming Assignment 3: Stochastic Filtering"
   ]
  },
  {
   "cell_type": "code",
   "execution_count": 7,
   "metadata": {
    "collapsed": false
   },
   "outputs": [
    {
     "name": "stdout",
     "output_type": "stream",
     "text": [
      "Modules Imported!\n"
     ]
    }
   ],
   "source": [
    "%matplotlib inline\n",
    "import matplotlib.pyplot as plt\n",
    "import numpy as np\n",
    "from scipy.stats import bernoulli, norm\n",
    "from __future__ import division\n",
    "print \"Modules Imported!\""
   ]
  },
  {
   "cell_type": "markdown",
   "metadata": {},
   "source": [
    "## 1. Hidden Markov Models"
   ]
  },
  {
   "cell_type": "markdown",
   "metadata": {},
   "source": [
    "Recall that a declarative description for a Hidden Markov Model with a finite state space ${\\mathsf X}$ and a finite observation space ${\\mathsf Y}$ consists of the following objects:\n",
    "\n",
    "* initial state distribution $p_0$, i.e., the pmf of $X_0$\n",
    "* state transition matrix $M = [M(x,x')]_{x,x' \\in {\\mathsf X}}$, where\n",
    "\n",
    "$$\n",
    "M(x,x') = {\\bf P}[X_{t+1}=x'|X_t=x]\n",
    "$$\n",
    "\n",
    "* observation model $T = [T(x,y)]_{x \\in {\\mathsf X} ,y \\in {\\mathsf Y}}$, where\n",
    "\n",
    "$$\n",
    "T(x,y) = {\\bf P}[Y_t = y|X_t=x].\n",
    "$$\n",
    "\n",
    "Then, for any $t =1,2,3,\\ldots$, the joint distribution of the hidden state sequence $X^t_0$ and the observation sequence $Y^t_1$ is given by\n",
    "\n",
    "$$\n",
    "{\\bf P}[X^t_0=x^t_0,Y^t_1 = y^t_1] = p_0(x_0) \\cdot \\prod^{t-1}_{s=0} M(x_s,x_{s+1}) T(x_{s+1},y_{s+1}).\n",
    "$$"
   ]
  },
  {
   "cell_type": "markdown",
   "metadata": {},
   "source": [
    "<b>Problem 1a.</b> In the code cell below, write a function `HMMSample(p0,M,T,t)` that takes as input the declarative description $(p_0,M,T)$ and a time horizon $t \\in {\\mathbb N}$ and generates the random sequences $X^t_0$ and $Y^t_1$.\n",
    "\n",
    "Import additional modules as needed."
   ]
  },
  {
   "cell_type": "code",
   "execution_count": 1,
   "metadata": {
    "collapsed": true
   },
   "outputs": [],
   "source": [
    "###### student code goes here ######\n",
    "def HMMSample(p0, M, T, t):\n",
    "    \"\"\"\n",
    "    In this function, the values X and Y can take are {0,1}\n",
    "    Thus, the shape of transition mantrices M, T would be 2x2.\n",
    "    In the initial distribution p0. p0(1) = P(X0=1)\n",
    "    \"\"\"\n",
    "    # since only 0 and 1 are valid values, set -1 as initial values.\n",
    "    X = -np.ones(t+1, dtype='int')\n",
    "    Y = -np.ones(t+1, dtype='int')\n",
    "    X[0] = bernoulli.rvs(p0[1])\n",
    "    for s in xrange(1, t+1):\n",
    "        X[s] = bernoulli.rvs(M[X[s-1], 1])\n",
    "        Y[s] = bernoulli.rvs(T[X[s], 1])\n",
    "    return X, Y"
   ]
  },
  {
   "cell_type": "markdown",
   "metadata": {},
   "source": [
    "As a sanity check, print the output of your code with the following settings:\n",
    "\n",
    "$$\n",
    " p_0 = \\left(\\frac{1}{2},\\frac{1}{2}\\right), \\quad M = \\left( \\begin{matrix} 0 & 1 \\\\ 1 & 0 \\end{matrix} \\right), \\quad T = \\left(\\begin{matrix} 1 & 0 \\\\ 0 & 1 \\end{matrix}\\right).\n",
    "$$\n",
    "\n",
    "Are you seeing what you were expecting?"
   ]
  },
  {
   "cell_type": "code",
   "execution_count": 67,
   "metadata": {
    "collapsed": false
   },
   "outputs": [
    {
     "name": "stdout",
     "output_type": "stream",
     "text": [
      "The sequences generated:\n",
      "X (from 0 to t): [0 1 0 1 0 1 0 1 0 1 0]\n",
      "Y (from 1 to t):   [1 0 1 0 1 0 1 0 1 0]\n"
     ]
    }
   ],
   "source": [
    "###### student code goes here ######\n",
    "\n",
    "p0 = np.array([1/2, 1/2])\n",
    "M = np.array([[0,1],[1,0]])\n",
    "T = np.array([[1,0],[0,1]])\n",
    "\n",
    "X, Y = HMMSample(p0, M, T, 10)\n",
    "print \"The sequences generated:\\nX (from 0 to t): {}\\nY (from 1 to t):   {}\".format(X,Y[1:])"
   ]
  },
  {
   "cell_type": "markdown",
   "metadata": {},
   "source": [
    "<b>Problem 1b.</b> In the code cell below, write a function `HMMPredict(p,M)` that takes as input a belief (i.e., a pmf over the state space ${\\mathsf X}$) and the transition matrix of the hidden state process and implements the prediction step\n",
    "\n",
    "$$\n",
    "\\pi_{t|t} \\longrightarrow \\pi_{t+1|t}\n",
    "$$\n",
    "\n",
    "of the HMM filtering recursion."
   ]
  },
  {
   "cell_type": "markdown",
   "metadata": {},
   "source": [
    "---\n",
    "Prediction rule:\n",
    "$$\n",
    "\\Pi_{t+1|t} = \\Pi_tM\n",
    "$$"
   ]
  },
  {
   "cell_type": "code",
   "execution_count": 277,
   "metadata": {
    "collapsed": true
   },
   "outputs": [],
   "source": [
    "###### student code goes here ######\n",
    "def HMMPredict(p, M):\n",
    "    \"see prediction rule above\"\n",
    "    return np.dot(p, M)"
   ]
  },
  {
   "cell_type": "markdown",
   "metadata": {},
   "source": [
    "<b>Problem 1c.</b> In the code cell below, write a function `HMMCorrect(p,M,T,y)` that takes as input a belief, the transition and the observation matrices of the HMM, and an observation and implements the correction step\n",
    "\n",
    "$$\n",
    "\\pi_{t+1|t} \\longrightarrow \\pi_{t+1|t+1}\n",
    "$$\n",
    "\n",
    "of the HMM recursion."
   ]
  },
  {
   "cell_type": "markdown",
   "metadata": {},
   "source": [
    "---\n",
    "Correction rule:\n",
    "$$\\Pi_{t+1}(a) = \\frac{\\Pi_{t+1|t}(a)T(a, y_{t+1})}{\\sum_{b \\in X}\\Pi_{t+1|t}(b)T(b, y_{t+1})}\n",
    "$$"
   ]
  },
  {
   "cell_type": "code",
   "execution_count": 2,
   "metadata": {
    "collapsed": true
   },
   "outputs": [],
   "source": [
    "###### student code goes here ######\n",
    "\n",
    "def HMMCorrect(predict, T, y):\n",
    "    \"see correction rule above\"\n",
    "    # predict, T[:,y] element-wise multiplication\n",
    "    nume = predict * T[:,y]\n",
    "    return nume / nume.sum()"
   ]
  },
  {
   "cell_type": "markdown",
   "metadata": {},
   "source": [
    "<b>Problem 1d.</b> Use your answers from the previous parts to write a function `HMMFilter(p_0,M,T,t)` that implements the HMM filtering recursion for the declarative model $(p_0,M,T)$ over a horizon $t$."
   ]
  },
  {
   "cell_type": "code",
   "execution_count": 71,
   "metadata": {
    "collapsed": true
   },
   "outputs": [],
   "source": [
    "###### student code goes here ######\n",
    "def HMMFilter(p0, M, T, t, Y):\n",
    "    pi = np.zeros((t+1, 2))\n",
    "    pi[0,:] = p0\n",
    "    for s in xrange(1, t+1):\n",
    "        predict = HMMPredict(pi[s-1,:], M)\n",
    "        pi[s,:] = HMMCorrect(predict, T, Y[s])\n",
    "    return pi\n",
    "    \n",
    "    "
   ]
  },
  {
   "cell_type": "markdown",
   "metadata": {},
   "source": [
    "<b>Problem 1e.</b> Consider the following problem specification: $p_0 = {\\rm Bernoulli}(1/2)$, \n",
    "\n",
    "$$\n",
    "M = \\left( \\begin{matrix} 0.8 & 0.2 \\\\ 0.2 & 0.8 \\end{matrix}\\right), \\quad T = \\left( \\begin{matrix} 0.4 & 0.6 \\\\ 0.6 & 0.4 \\end{matrix}\\right), \\quad t = 100.\n",
    "$$\n",
    "\n",
    "Use your code in Problem 1d to run the HMM filter recusion with this specification, and then to generate the following output: the hidden state sequence $X_1,X_2,\\ldots,X_{100}$, the posterior probabilities $\\pi_1(1),\\ldots,\\pi_{100}(1)$, and the error rate\n",
    "\n",
    "$$\n",
    "\\frac{\\text{number of times $\\pi_t(1) > 1/2$ and $X_t = 1$}}{\\text{number of times $X_t = 1$}}.\n",
    "$$"
   ]
  },
  {
   "cell_type": "code",
   "execution_count": 274,
   "metadata": {
    "collapsed": false
   },
   "outputs": [
    {
     "data": {
      "text/plain": [
       "0.64583333333333337"
      ]
     },
     "execution_count": 274,
     "metadata": {},
     "output_type": "execute_result"
    }
   ],
   "source": [
    "###### student code goes here ######\n",
    "\n",
    "# parameters initialization\n",
    "M = np.array([[0.8,0.2],[0.2, 0.8]])\n",
    "T = np.array([[0.4,0.6],[0.6,0.4]])\n",
    "t = 100\n",
    "# produce hidden states and observation samples\n",
    "X, Y = HMMSample(p0, M, T, t)\n",
    "# filter recursion\n",
    "pi = HMMFilter(p0, M, T, t, Y)\n",
    "\n",
    "# success rate\n",
    "(np.logical_and(pi[1:,1] > 0.5, X[1:]==1)).sum() / (X[1:]==1).sum()"
   ]
  },
  {
   "cell_type": "markdown",
   "metadata": {},
   "source": [
    "## 2. The scalar Kalman Filter"
   ]
  },
  {
   "cell_type": "markdown",
   "metadata": {},
   "source": [
    "Consider the following Hidden Markov Model with continuous states and observations: $X_0 \\sim N(m_0,\\sigma^2_0)$, and\n",
    "\n",
    "\\begin{align*}\n",
    "X_t &= a X_{t-1} + b U_t \\\\\n",
    "Y_t &= c X_t + d V_t\n",
    "\\end{align*}\n",
    "\n",
    "for $t=1,2,\\ldots$, where $U_t$ are i.i.d. $N(0,1)$, $V_t$ are i.i.d. $N(0,1)$, and $X_0,U,V$ are mutually independent."
   ]
  },
  {
   "cell_type": "markdown",
   "metadata": {},
   "source": [
    "<b>Problem 2a:</b> In the code cell below, write a function `KFSample(mean0,var0,a,b,c,d,t)` that takes as input the model parameters $m_0,\\sigma^2_0,a,b,c,d$ and a time horizon $t \\in {\\mathbb N}$ and generates the random sequences $X^t_0$ and $Y^t_1$.\n",
    "\n",
    "Import additional modules as needed."
   ]
  },
  {
   "cell_type": "code",
   "execution_count": 2,
   "metadata": {
    "collapsed": false
   },
   "outputs": [],
   "source": [
    "###### student code goes here ######\n",
    "def KFSample(mean0, var0, a, b, c, d, t):\n",
    "    X = -np.zeros(t+1)\n",
    "    Y = -np.zeros(t+1)\n",
    "    X[0] = norm.rvs(mean0, var0)\n",
    "    Y[0] = np.nan\n",
    "    for s in xrange(1, t+1):\n",
    "        X[s] = a * X[s-1] + b * norm.rvs(0, 1)\n",
    "        Y[s] = c * X[s] + d * norm.rvs(0, 1)\n",
    "    return X, Y"
   ]
  },
  {
   "cell_type": "markdown",
   "metadata": {},
   "source": [
    "<b>Problem 2b.</b> In the code cell below, write a function `KFPredict(mean,var,a,b,c,d)` that takes as input the mean and the variance of a Gaussian belief (i.e., a Gaussian pdf on the state space ${\\mathsf X} = {\\mathbb R})$ and implements the prediction step of the Kalman filter:\n",
    "\n",
    "$$\n",
    "(m_{t|t},\\Sigma_{t|t}) \\longrightarrow (m_{t+1|t},\\Sigma_{t+1|t}).\n",
    "$$\n",
    "\n",
    "<b>Caution:</b> note the coefficients $b$ and $d$ multiplying the state and the observation noise."
   ]
  },
  {
   "cell_type": "markdown",
   "metadata": {},
   "source": [
    "---\n",
    "Predict rule:\n",
    "$$\n",
    "m_{t+1|t} = a m_{t|t} \\\\\n",
    "\\Sigma_{t+1|t} = a^2 \\Sigma_{t|t} + b^2 \\sigma_U^2\n",
    "$$"
   ]
  },
  {
   "cell_type": "code",
   "execution_count": 3,
   "metadata": {
    "collapsed": true
   },
   "outputs": [],
   "source": [
    "###### student code goes here ######\n",
    "def KFPredict(mean, var, a, b):\n",
    "    \"\"\"\n",
    "    see predict rule above\n",
    "    \"\"\"\n",
    "    predict_mean = a * mean\n",
    "    predict_var = pow(a,2) * var + pow(b,2)\n",
    "    return (predict_mean, predict_var)"
   ]
  },
  {
   "cell_type": "markdown",
   "metadata": {},
   "source": [
    "<b>Problem 2c.</b> In the code cell below, write a function `KFCorrect(mean,var,a,b,c,d,y)` that takes as input the mean and the variance of a Gaussian belief and implements the correction step of the Kalman filter:\n",
    "\n",
    "$$\n",
    "(m_{t+1|t},\\Sigma_{t+1|t}) \\longrightarrow (m_{t+1|t+1},\\Sigma_{t+1|t+1}).\n",
    "$$"
   ]
  },
  {
   "cell_type": "markdown",
   "metadata": {},
   "source": [
    "---\n",
    "Correction rule:\n",
    "$$\n",
    "m_{t+1|t+1} = \\frac{c y_{t+1}\\Sigma_{t+1|t} + m_{t+1|t} \\sigma_V^2 d^2 }{c^2 \\Sigma_{t+1|t} + \\sigma_V^2 d^2}\\\\\n",
    "\\Sigma_{t+1|t+1} = \\frac{\\Sigma_{t+1|t} \\sigma_V^2 d^2}{c^2 \\Sigma_{t+1|t} + \\sigma_V^2 d^2}\n",
    "$$\n"
   ]
  },
  {
   "cell_type": "code",
   "execution_count": 4,
   "metadata": {
    "collapsed": true
   },
   "outputs": [],
   "source": [
    "###### student code goes here ######\n",
    "def KFCorrect(predict_mean, predict_var, c, d, y):\n",
    "    \"\"\"\n",
    "    see correction rule above\n",
    "    \"\"\"\n",
    "    mean = (c*predict_var*y + predict_mean*pow(d,2)) / (pow(c,2)*predict_var + pow(d,2))\n",
    "    var = (predict_var*pow(d,2)) / (pow(c,2)*predict_var + pow(d,2))\n",
    "    return (mean, var)"
   ]
  },
  {
   "cell_type": "markdown",
   "metadata": {},
   "source": [
    "<b>Problem 2d.</b> Use your answers from the previous parts to write a function `KF(mean0,var0,a,b,c,d,t)` that implements the Kalman Filter over a horizon $t$."
   ]
  },
  {
   "cell_type": "code",
   "execution_count": 11,
   "metadata": {
    "collapsed": false
   },
   "outputs": [],
   "source": [
    "###### student code goes here ######\n",
    "def KF(mean0, var0, a, b, c, d, t, Y):\n",
    "    mean = np.zeros(t+1)\n",
    "    var = np.zeros(t+1)\n",
    "    mean[0] = mean0\n",
    "    var[0] = var0\n",
    "    #pi[0], var[0] = mean0, var0\n",
    "    for s in xrange(1, t+1):\n",
    "        # get the prediction\n",
    "        predict_mean, predict_var = KFPredict(mean[s-1], var[s-1], a, b)\n",
    "        # correct prediction\n",
    "        mean[s], var[s] = KFCorrect(predict_mean, predict_var, c, d, Y[s])\n",
    "    return mean, var\n",
    "    "
   ]
  },
  {
   "cell_type": "markdown",
   "metadata": {},
   "source": [
    "<b>Problem 2e.</b> Consider the following model specification:\n",
    "\n",
    "$$\n",
    "m_0 = 2, \\quad \\sigma^2_0 = 0.5, \\quad a = 1.5, \\quad b = 0.3, \\quad c = 1, \\quad d = 0.5\n",
    "$$\n",
    "\n",
    "and the time horizion $t=100$. Use your code from Problem 2d to run the Kalman filter and generate the following two plots:\n",
    "\n",
    "1. Plot the actual hidden state trajectory and the predicted mean trajectory versus time on the same set of axes.\n",
    "\n",
    "2. Plot the posterior variance $\\Sigma_t$ versus time.\n"
   ]
  },
  {
   "cell_type": "code",
   "execution_count": 12,
   "metadata": {
    "collapsed": false
   },
   "outputs": [
    {
     "data": {
      "text/plain": [
       "<matplotlib.text.Text at 0x112618c50>"
      ]
     },
     "execution_count": 12,
     "metadata": {},
     "output_type": "execute_result"
    },
    {
     "data": {
      "image/png": "[encoded data removed]",
      "text/plain": [
       "<matplotlib.figure.Figure at 0x10f1d8f90>"
      ]
     },
     "metadata": {},
     "output_type": "display_data"
    },
    {
     "data": {
      "image/png": "[encoded data removed]",
      "text/plain": [
       "<matplotlib.figure.Figure at 0x10f2437d0>"
      ]
     },
     "metadata": {},
     "output_type": "display_data"
    }
   ],
   "source": [
    "###### student code goes here ######\n",
    "\n",
    "# parameters initialization\n",
    "mean0, var0 = 2., 0.5\n",
    "a,b,c,d = 1.5, 0.3, 1., 0.5\n",
    "t = 100\n",
    "# produce hidden states and observation samples\n",
    "X, Y = KFSample(mean0, var0, a, b, c, d, t)\n",
    "# filter recursion, get the means and vars\n",
    "mean, var = KF(mean0, var0, a, b, c, d, t, Y)\n",
    "## generate predicted hidden states based on the means and vars\n",
    "#ps = np.zeros(t+1)\n",
    "#for s in xrange(1, t+1):\n",
    "#    ps[s] = norm.rvs(mean[s], var[s])\n",
    "\n",
    "# plot\n",
    "time = np.arange(t+1)\n",
    "plt.figure()\n",
    "plt.plot(time, X,'ro', label='hidden states')\n",
    "plt.plot(time, mean,'bx', label='predicted mean')\n",
    "plt.legend()\n",
    "plt.xlabel('time')\n",
    "plt.ylabel('value')\n",
    "plt.title('actual hidden state trajectory and \\nthe predicted mean trajectory versus time')\n",
    "\n",
    "plt.figure()\n",
    "plt.plot(time, var,'.')\n",
    "plt.title('posterior variance  $\\Sigma_t$  versus time')\n",
    "plt.xlabel('time')\n",
    "plt.ylabel('value')"
   ]
  },
  {
   "cell_type": "code",
   "execution_count": null,
   "metadata": {
    "collapsed": true
   },
   "outputs": [],
   "source": []
  }
 ],
 "metadata": {
  "anaconda-cloud": {},
  "kernelspec": {
   "display_name": "Python [conda env:python2]",
   "language": "python",
   "name": "conda-env-python2-py"
  },
  "language_info": {
   "codemirror_mode": {
    "name": "ipython",
    "version": 2
   },
   "file_extension": ".py",
   "mimetype": "text/x-python",
   "name": "python",
   "nbconvert_exporter": "python",
   "pygments_lexer": "ipython2",
   "version": "2.7.12"
  }
 },
 "nbformat": 4,
 "nbformat_minor": 0
}
